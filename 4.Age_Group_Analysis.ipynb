{
 "cells": [
  {
   "cell_type": "markdown",
   "metadata": {},
   "source": [
    "# Which age groups are most affected by abuse-related fatalities?\n",
    "\n",
    "## Methodology  \n",
    "\n",
    "1. **Aggregate Fatalities by Age Group** – Calculate the total number of child fatalities for each age category.  \n",
    "2. **Sort Age Groups** – Arrange the age groups from highest to lowest fatalities for better comparison.  \n",
    "3. **Visualize the Findings** – Use a bar chart to display the distribution of child fatalities across different age groups.  \n"
   ]
  },
  {
   "cell_type": "markdown",
   "metadata": {},
   "source": [
    "### Import Libraries and Data"
   ]
  },
  {
   "cell_type": "code",
   "execution_count": 3,
   "metadata": {},
   "outputs": [
    {
     "data": {
      "text/html": [
       "<div>\n",
       "<style scoped>\n",
       "    .dataframe tbody tr th:only-of-type {\n",
       "        vertical-align: middle;\n",
       "    }\n",
       "\n",
       "    .dataframe tbody tr th {\n",
       "        vertical-align: top;\n",
       "    }\n",
       "\n",
       "    .dataframe thead th {\n",
       "        text-align: right;\n",
       "    }\n",
       "</style>\n",
       "<table border=\"1\" class=\"dataframe\">\n",
       "  <thead>\n",
       "    <tr style=\"text-align: right;\">\n",
       "      <th></th>\n",
       "      <th>Fiscal Year</th>\n",
       "      <th>County</th>\n",
       "      <th>Region</th>\n",
       "      <th>Program</th>\n",
       "      <th>Abuse Neglect Fatalities</th>\n",
       "      <th>Race Ethnicity</th>\n",
       "      <th>Age</th>\n",
       "      <th>Gender</th>\n",
       "      <th>Age Group</th>\n",
       "    </tr>\n",
       "  </thead>\n",
       "  <tbody>\n",
       "    <tr>\n",
       "      <th>0</th>\n",
       "      <td>2024-01-01</td>\n",
       "      <td>Anderson</td>\n",
       "      <td>Tyler</td>\n",
       "      <td>Child Protective Investigations</td>\n",
       "      <td>1</td>\n",
       "      <td>African American</td>\n",
       "      <td>0</td>\n",
       "      <td>Male</td>\n",
       "      <td>Infant (0-1)</td>\n",
       "    </tr>\n",
       "    <tr>\n",
       "      <th>1</th>\n",
       "      <td>2024-01-01</td>\n",
       "      <td>Angelina</td>\n",
       "      <td>Beaumont</td>\n",
       "      <td>Child Protective Investigations</td>\n",
       "      <td>1</td>\n",
       "      <td>African American</td>\n",
       "      <td>0</td>\n",
       "      <td>Male</td>\n",
       "      <td>Infant (0-1)</td>\n",
       "    </tr>\n",
       "    <tr>\n",
       "      <th>2</th>\n",
       "      <td>2024-01-01</td>\n",
       "      <td>Atascosa</td>\n",
       "      <td>San Antonio</td>\n",
       "      <td>Child Protective Investigations</td>\n",
       "      <td>1</td>\n",
       "      <td>Hispanic</td>\n",
       "      <td>12</td>\n",
       "      <td>Female</td>\n",
       "      <td>Pre-Teen (10-14)</td>\n",
       "    </tr>\n",
       "    <tr>\n",
       "      <th>3</th>\n",
       "      <td>2024-01-01</td>\n",
       "      <td>Bee</td>\n",
       "      <td>Edinburg</td>\n",
       "      <td>Child Protective Investigations</td>\n",
       "      <td>1</td>\n",
       "      <td>Hispanic</td>\n",
       "      <td>0</td>\n",
       "      <td>Female</td>\n",
       "      <td>Infant (0-1)</td>\n",
       "    </tr>\n",
       "    <tr>\n",
       "      <th>4</th>\n",
       "      <td>2024-01-01</td>\n",
       "      <td>Bell</td>\n",
       "      <td>Austin</td>\n",
       "      <td>Child Protective Investigations</td>\n",
       "      <td>1</td>\n",
       "      <td>African American</td>\n",
       "      <td>6</td>\n",
       "      <td>Male</td>\n",
       "      <td>Child (5-9)</td>\n",
       "    </tr>\n",
       "  </tbody>\n",
       "</table>\n",
       "</div>"
      ],
      "text/plain": [
       "  Fiscal Year    County       Region                          Program  \\\n",
       "0  2024-01-01  Anderson        Tyler  Child Protective Investigations   \n",
       "1  2024-01-01  Angelina     Beaumont  Child Protective Investigations   \n",
       "2  2024-01-01  Atascosa  San Antonio  Child Protective Investigations   \n",
       "3  2024-01-01       Bee     Edinburg  Child Protective Investigations   \n",
       "4  2024-01-01      Bell       Austin  Child Protective Investigations   \n",
       "\n",
       "   Abuse Neglect Fatalities    Race Ethnicity  Age  Gender         Age Group  \n",
       "0                         1  African American    0    Male      Infant (0-1)  \n",
       "1                         1  African American    0    Male      Infant (0-1)  \n",
       "2                         1          Hispanic   12  Female  Pre-Teen (10-14)  \n",
       "3                         1          Hispanic    0  Female      Infant (0-1)  \n",
       "4                         1  African American    6    Male       Child (5-9)  "
      ]
     },
     "execution_count": 3,
     "metadata": {},
     "output_type": "execute_result"
    }
   ],
   "source": [
    "\n",
    "import pandas as pd\n",
    "import matplotlib.pyplot as plt\n",
    "import seaborn as sns\n",
    "\n",
    "\n",
    "df = pd.read_csv('/Users/kubra/Desktop/Pyhton/python projects /abuse_neglected_child_fatalities /cleaned_data.csv')\n",
    "\n",
    "# Display the first few rows\n",
    "df.head()\n",
    "     "
   ]
  },
  {
   "cell_type": "markdown",
   "metadata": {},
   "source": [
    "## Aggregate Fatalities by Age Group  \n",
    "\n",
    "To analyze the distribution of child fatalities across different age groups, the dataset is grouped by the \"Age Group\" column. The total number of fatalities in each category is calculated using the `groupby()` function, followed by `sum()` to aggregate the fatalities. The results are then sorted in descending order to highlight which age groups have the highest fatality counts.\n",
    "\n",
    "By structuring the data in this way, it becomes easier to identify patterns and compare risks among different age groups before visualizing the findings.\n",
    "\n",
    "\n"
   ]
  },
  {
   "cell_type": "code",
   "execution_count": 4,
   "metadata": {},
   "outputs": [
    {
     "data": {
      "text/html": [
       "<div>\n",
       "<style scoped>\n",
       "    .dataframe tbody tr th:only-of-type {\n",
       "        vertical-align: middle;\n",
       "    }\n",
       "\n",
       "    .dataframe tbody tr th {\n",
       "        vertical-align: top;\n",
       "    }\n",
       "\n",
       "    .dataframe thead th {\n",
       "        text-align: right;\n",
       "    }\n",
       "</style>\n",
       "<table border=\"1\" class=\"dataframe\">\n",
       "  <thead>\n",
       "    <tr style=\"text-align: right;\">\n",
       "      <th></th>\n",
       "      <th>Age Group</th>\n",
       "      <th>Abuse Neglect Fatalities</th>\n",
       "    </tr>\n",
       "  </thead>\n",
       "  <tbody>\n",
       "    <tr>\n",
       "      <th>1</th>\n",
       "      <td>Infant (0-1)</td>\n",
       "      <td>719</td>\n",
       "    </tr>\n",
       "    <tr>\n",
       "      <th>4</th>\n",
       "      <td>Toddler (2-4)</td>\n",
       "      <td>617</td>\n",
       "    </tr>\n",
       "    <tr>\n",
       "      <th>0</th>\n",
       "      <td>Child (5-9)</td>\n",
       "      <td>317</td>\n",
       "    </tr>\n",
       "    <tr>\n",
       "      <th>2</th>\n",
       "      <td>Pre-Teen (10-14)</td>\n",
       "      <td>143</td>\n",
       "    </tr>\n",
       "    <tr>\n",
       "      <th>3</th>\n",
       "      <td>Teen (15-17)</td>\n",
       "      <td>108</td>\n",
       "    </tr>\n",
       "  </tbody>\n",
       "</table>\n",
       "</div>"
      ],
      "text/plain": [
       "          Age Group  Abuse Neglect Fatalities\n",
       "1      Infant (0-1)                       719\n",
       "4     Toddler (2-4)                       617\n",
       "0       Child (5-9)                       317\n",
       "2  Pre-Teen (10-14)                       143\n",
       "3      Teen (15-17)                       108"
      ]
     },
     "execution_count": 4,
     "metadata": {},
     "output_type": "execute_result"
    }
   ],
   "source": [
    "# Group by Age Group and sum the fatalities\n",
    "age_group_fatalities = df.groupby(\"Age Group\")[\"Abuse Neglect Fatalities\"].sum().reset_index()\n",
    "\n",
    "# Sort by highest to lowest fatalities\n",
    "age_group_fatalities = age_group_fatalities.sort_values(by=\"Abuse Neglect Fatalities\", ascending=False)\n",
    "\n",
    "# Display the results\n",
    "age_group_fatalities\n"
   ]
  },
  {
   "cell_type": "markdown",
   "metadata": {},
   "source": [
    "\n",
    "# Set figure size\n",
    "plt.figure(figsize=(10, 6))\n",
    "\n",
    "# Create bar chart\n",
    "sns.barplot(data=age_group_fatalities, \n",
    "            x=\"Abuse Neglect Fatalities\", \n",
    "            y=\"Age Group\", \n",
    "            palette=\"Blues_r\")\n",
    "\n",
    "# Add labels and title\n",
    "plt.xlabel(\"Total Fatalities\")\n",
    "plt.ylabel(\"Age Group\")\n",
    "plt.title(\"Child Fatalities Due to Abuse and Neglect by Age Group (Texas, FY2015-FY2024)\")\n",
    "\n",
    "# Show the plot\n",
    "plt.show()\n"
   ]
  },
  {
   "cell_type": "markdown",
   "metadata": {},
   "source": [
    "## Visualizing Child Fatalities by Age Group  \n",
    "\n",
    "To better understand which age groups are most affected by abuse-related fatalities, a bar chart is used to display the total fatalities for each age category. The x-axis represents different age groups, while the y-axis shows the total number of fatalities.  \n",
    "\n"
   ]
  },
  {
   "cell_type": "code",
   "execution_count": 7,
   "metadata": {},
   "outputs": [
    {
     "name": "stderr",
     "output_type": "stream",
     "text": [
      "/var/folders/3n/8_k03zxd0bz028g7w59vxqkr0000gn/T/ipykernel_5381/1789188069.py:5: FutureWarning: \n",
      "\n",
      "Passing `palette` without assigning `hue` is deprecated and will be removed in v0.14.0. Assign the `x` variable to `hue` and set `legend=False` for the same effect.\n",
      "\n",
      "  sns.barplot(data=age_group_fatalities,\n"
     ]
    },
    {
     "data": {
      "image/png": "[encoded data removed]",
      "text/plain": [
       "<Figure size 1000x600 with 1 Axes>"
      ]
     },
     "metadata": {},
     "output_type": "display_data"
    }
   ],
   "source": [
    "\n",
    "# Set figure size\n",
    "plt.figure(figsize=(10, 6))\n",
    "\n",
    "# Create bar chart (Switched X and Y)\n",
    "sns.barplot(data=age_group_fatalities, \n",
    "            x=\"Age Group\", \n",
    "            y=\"Abuse Neglect Fatalities\", \n",
    "            palette=\"Blues_r\")\n",
    "\n",
    "# Add labels and title\n",
    "plt.xlabel(\"Age Group\")\n",
    "plt.ylabel(\"Total Fatalities\")\n",
    "plt.title(\"Child Fatalities  by Age Group (Texas, FY2015-FY2024)\")\n",
    "\n",
    "# Rotate x-axis labels for better readability\n",
    "plt.xticks(rotation=45)\n",
    "\n",
    "# Show the plot\n",
    "plt.show()\n"
   ]
  }
 ],
 "metadata": {
  "kernelspec": {
   "display_name": "child_fatalities",
   "language": "python",
   "name": "python3"
  },
  "language_info": {
   "codemirror_mode": {
    "name": "ipython",
    "version": 3
   },
   "file_extension": ".py",
   "mimetype": "text/x-python",
   "name": "python",
   "nbconvert_exporter": "python",
   "pygments_lexer": "ipython3",
   "version": "3.11.11"
  }
 },
 "nbformat": 4,
 "nbformat_minor": 2
}
