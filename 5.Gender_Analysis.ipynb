{
 "cells": [
  {
   "cell_type": "markdown",
   "metadata": {},
   "source": [
    "### What is the distribution of abuse- and neglect-related child fatalities by gender?\n",
    "\n",
    "## Methodology  \n",
    "\n",
    "1. **Aggregate Fatalities by Gender** – Calculate the total number of child fatalities for each gender category.  \n",
    "2. **Calculate Percentage Distribution** – Determine the proportion of fatalities for male and female children.  \n",
    "3. **Visualize the Findings** – Use a pie chart to display the percentage distribution of fatalities by gender.  \n"
   ]
  },
  {
   "cell_type": "markdown",
   "metadata": {},
   "source": [
    "### Import Libraries and Data\n"
   ]
  },
  {
   "cell_type": "code",
   "execution_count": 1,
   "metadata": {},
   "outputs": [
    {
     "data": {
      "text/html": [
       "<div>\n",
       "<style scoped>\n",
       "    .dataframe tbody tr th:only-of-type {\n",
       "        vertical-align: middle;\n",
       "    }\n",
       "\n",
       "    .dataframe tbody tr th {\n",
       "        vertical-align: top;\n",
       "    }\n",
       "\n",
       "    .dataframe thead th {\n",
       "        text-align: right;\n",
       "    }\n",
       "</style>\n",
       "<table border=\"1\" class=\"dataframe\">\n",
       "  <thead>\n",
       "    <tr style=\"text-align: right;\">\n",
       "      <th></th>\n",
       "      <th>Fiscal Year</th>\n",
       "      <th>County</th>\n",
       "      <th>Region</th>\n",
       "      <th>Program</th>\n",
       "      <th>Abuse Neglect Fatalities</th>\n",
       "      <th>Race Ethnicity</th>\n",
       "      <th>Age</th>\n",
       "      <th>Gender</th>\n",
       "      <th>Age Group</th>\n",
       "    </tr>\n",
       "  </thead>\n",
       "  <tbody>\n",
       "    <tr>\n",
       "      <th>0</th>\n",
       "      <td>2024-01-01</td>\n",
       "      <td>Anderson</td>\n",
       "      <td>Tyler</td>\n",
       "      <td>Child Protective Investigations</td>\n",
       "      <td>1</td>\n",
       "      <td>African American</td>\n",
       "      <td>0</td>\n",
       "      <td>Male</td>\n",
       "      <td>Infant (0-1)</td>\n",
       "    </tr>\n",
       "    <tr>\n",
       "      <th>1</th>\n",
       "      <td>2024-01-01</td>\n",
       "      <td>Angelina</td>\n",
       "      <td>Beaumont</td>\n",
       "      <td>Child Protective Investigations</td>\n",
       "      <td>1</td>\n",
       "      <td>African American</td>\n",
       "      <td>0</td>\n",
       "      <td>Male</td>\n",
       "      <td>Infant (0-1)</td>\n",
       "    </tr>\n",
       "    <tr>\n",
       "      <th>2</th>\n",
       "      <td>2024-01-01</td>\n",
       "      <td>Atascosa</td>\n",
       "      <td>San Antonio</td>\n",
       "      <td>Child Protective Investigations</td>\n",
       "      <td>1</td>\n",
       "      <td>Hispanic</td>\n",
       "      <td>12</td>\n",
       "      <td>Female</td>\n",
       "      <td>Pre-Teen (10-14)</td>\n",
       "    </tr>\n",
       "    <tr>\n",
       "      <th>3</th>\n",
       "      <td>2024-01-01</td>\n",
       "      <td>Bee</td>\n",
       "      <td>Edinburg</td>\n",
       "      <td>Child Protective Investigations</td>\n",
       "      <td>1</td>\n",
       "      <td>Hispanic</td>\n",
       "      <td>0</td>\n",
       "      <td>Female</td>\n",
       "      <td>Infant (0-1)</td>\n",
       "    </tr>\n",
       "    <tr>\n",
       "      <th>4</th>\n",
       "      <td>2024-01-01</td>\n",
       "      <td>Bell</td>\n",
       "      <td>Austin</td>\n",
       "      <td>Child Protective Investigations</td>\n",
       "      <td>1</td>\n",
       "      <td>African American</td>\n",
       "      <td>6</td>\n",
       "      <td>Male</td>\n",
       "      <td>Child (5-9)</td>\n",
       "    </tr>\n",
       "  </tbody>\n",
       "</table>\n",
       "</div>"
      ],
      "text/plain": [
       "  Fiscal Year    County       Region                          Program  \\\n",
       "0  2024-01-01  Anderson        Tyler  Child Protective Investigations   \n",
       "1  2024-01-01  Angelina     Beaumont  Child Protective Investigations   \n",
       "2  2024-01-01  Atascosa  San Antonio  Child Protective Investigations   \n",
       "3  2024-01-01       Bee     Edinburg  Child Protective Investigations   \n",
       "4  2024-01-01      Bell       Austin  Child Protective Investigations   \n",
       "\n",
       "   Abuse Neglect Fatalities    Race Ethnicity  Age  Gender         Age Group  \n",
       "0                         1  African American    0    Male      Infant (0-1)  \n",
       "1                         1  African American    0    Male      Infant (0-1)  \n",
       "2                         1          Hispanic   12  Female  Pre-Teen (10-14)  \n",
       "3                         1          Hispanic    0  Female      Infant (0-1)  \n",
       "4                         1  African American    6    Male       Child (5-9)  "
      ]
     },
     "execution_count": 1,
     "metadata": {},
     "output_type": "execute_result"
    }
   ],
   "source": [
    "\n",
    "import pandas as pd\n",
    "import matplotlib.pyplot as plt\n",
    "import seaborn as sns\n",
    "\n",
    "\n",
    "df = pd.read_csv('/Users/kubra/Desktop/Pyhton/python projects /abuse_neglected_child_fatalities /cleaned_data.csv')\n",
    "\n",
    "# Display the first few rows\n",
    "df.head()\n",
    "     "
   ]
  },
  {
   "cell_type": "markdown",
   "metadata": {},
   "source": [
    "### Aggregate Fatalities by Gender  \n",
    "\n",
    "To analyze the distribution of abuse- and neglect-related child fatalities by gender, the dataset was grouped by the \"Gender\" column. The total number of fatalities for each gender was calculated using the `groupby()` function, followed by `sum()` to aggregate the fatalities.  \n",
    "\n",
    "Additionally, the percentage distribution was calculated by dividing each gender’s fatalities by the total fatalities and multiplying by 100. This ensures that the visualization accurately represents the proportion of fatalities between male and female children.\n"
   ]
  },
  {
   "cell_type": "code",
   "execution_count": 4,
   "metadata": {},
   "outputs": [
    {
     "data": {
      "text/html": [
       "<div>\n",
       "<style scoped>\n",
       "    .dataframe tbody tr th:only-of-type {\n",
       "        vertical-align: middle;\n",
       "    }\n",
       "\n",
       "    .dataframe tbody tr th {\n",
       "        vertical-align: top;\n",
       "    }\n",
       "\n",
       "    .dataframe thead th {\n",
       "        text-align: right;\n",
       "    }\n",
       "</style>\n",
       "<table border=\"1\" class=\"dataframe\">\n",
       "  <thead>\n",
       "    <tr style=\"text-align: right;\">\n",
       "      <th></th>\n",
       "      <th>Gender</th>\n",
       "      <th>Abuse Neglect Fatalities</th>\n",
       "    </tr>\n",
       "  </thead>\n",
       "  <tbody>\n",
       "    <tr>\n",
       "      <th>0</th>\n",
       "      <td>Female</td>\n",
       "      <td>767</td>\n",
       "    </tr>\n",
       "    <tr>\n",
       "      <th>1</th>\n",
       "      <td>Male</td>\n",
       "      <td>1131</td>\n",
       "    </tr>\n",
       "    <tr>\n",
       "      <th>2</th>\n",
       "      <td>Unknown</td>\n",
       "      <td>6</td>\n",
       "    </tr>\n",
       "  </tbody>\n",
       "</table>\n",
       "</div>"
      ],
      "text/plain": [
       "    Gender  Abuse Neglect Fatalities\n",
       "0   Female                       767\n",
       "1     Male                      1131\n",
       "2  Unknown                         6"
      ]
     },
     "execution_count": 4,
     "metadata": {},
     "output_type": "execute_result"
    }
   ],
   "source": [
    "# Group by Gender and sum the fatalities\n",
    "gender_fatalities = df.groupby(\"Gender\")[\"Abuse Neglect Fatalities\"].sum().reset_index()\n",
    "\n",
    "\n",
    "# Display the results\n",
    "gender_fatalities\n"
   ]
  },
  {
   "cell_type": "markdown",
   "metadata": {},
   "source": [
    "### Calculate Percentage Distribution  \n",
    "\n",
    "After aggregating the total fatalities for each gender, the next step is to determine the percentage distribution. This was done by dividing each gender’s fatalities by the total number of fatalities and multiplying by 100.  \n",
    "\n",
    "Calculating percentages ensures that the visualization accurately represents the proportional impact of abuse- and neglect-related child fatalities for male and female children.\n"
   ]
  },
  {
   "cell_type": "code",
   "execution_count": 5,
   "metadata": {},
   "outputs": [
    {
     "data": {
      "text/html": [
       "<div>\n",
       "<style scoped>\n",
       "    .dataframe tbody tr th:only-of-type {\n",
       "        vertical-align: middle;\n",
       "    }\n",
       "\n",
       "    .dataframe tbody tr th {\n",
       "        vertical-align: top;\n",
       "    }\n",
       "\n",
       "    .dataframe thead th {\n",
       "        text-align: right;\n",
       "    }\n",
       "</style>\n",
       "<table border=\"1\" class=\"dataframe\">\n",
       "  <thead>\n",
       "    <tr style=\"text-align: right;\">\n",
       "      <th></th>\n",
       "      <th>Gender</th>\n",
       "      <th>Abuse Neglect Fatalities</th>\n",
       "      <th>Percentage</th>\n",
       "    </tr>\n",
       "  </thead>\n",
       "  <tbody>\n",
       "    <tr>\n",
       "      <th>0</th>\n",
       "      <td>Female</td>\n",
       "      <td>767</td>\n",
       "      <td>40.283613</td>\n",
       "    </tr>\n",
       "    <tr>\n",
       "      <th>1</th>\n",
       "      <td>Male</td>\n",
       "      <td>1131</td>\n",
       "      <td>59.401261</td>\n",
       "    </tr>\n",
       "    <tr>\n",
       "      <th>2</th>\n",
       "      <td>Unknown</td>\n",
       "      <td>6</td>\n",
       "      <td>0.315126</td>\n",
       "    </tr>\n",
       "  </tbody>\n",
       "</table>\n",
       "</div>"
      ],
      "text/plain": [
       "    Gender  Abuse Neglect Fatalities  Percentage\n",
       "0   Female                       767   40.283613\n",
       "1     Male                      1131   59.401261\n",
       "2  Unknown                         6    0.315126"
      ]
     },
     "execution_count": 5,
     "metadata": {},
     "output_type": "execute_result"
    }
   ],
   "source": [
    "# Calculate percentage distribution\n",
    "gender_fatalities[\"Percentage\"] = (gender_fatalities[\"Abuse Neglect Fatalities\"] / gender_fatalities[\"Abuse Neglect Fatalities\"].sum()) * 100\n",
    "\n",
    "# Display the updated DataFrame\n",
    "gender_fatalities\n"
   ]
  },
  {
   "cell_type": "code",
   "execution_count": 13,
   "metadata": {},
   "outputs": [
    {
     "data": {
      "image/png": "[encoded data removed]",
      "text/plain": [
       "<Figure size 700x700 with 1 Axes>"
      ]
     },
     "metadata": {},
     "output_type": "display_data"
    }
   ],
   "source": [
    "import matplotlib.pyplot as plt\n",
    "\n",
    "# Define labels and values\n",
    "labels = gender_fatalities[\"Gender\"]\n",
    "sizes = gender_fatalities[\"Percentage\"]\n",
    "\n",
    "# Set figure size\n",
    "plt.figure(figsize=(7, 7))\n",
    "\n",
    "# Create Pie Chart\n",
    "plt.pie(sizes, labels=labels, autopct='%1.1f%%', colors=[\"#66b3ff\", \"#1f77b4\", \"#d3d3d3\"], startangle=140, wedgeprops={\"edgecolor\": \"black\"})\n",
    "\n",
    "# Add title\n",
    "plt.title(\"Percentage Distribution of Abuse- and Neglect-Related Child Fatalities by Gender\")\n",
    "\n",
    "# Show the plot\n",
    "plt.show()\n",
    "\n"
   ]
  }
 ],
 "metadata": {
  "kernelspec": {
   "display_name": "child_fatalities",
   "language": "python",
   "name": "python3"
  },
  "language_info": {
   "codemirror_mode": {
    "name": "ipython",
    "version": 3
   },
   "file_extension": ".py",
   "mimetype": "text/x-python",
   "name": "python",
   "nbconvert_exporter": "python",
   "pygments_lexer": "ipython3",
   "version": "3.11.11"
  }
 },
 "nbformat": 4,
 "nbformat_minor": 2
}
