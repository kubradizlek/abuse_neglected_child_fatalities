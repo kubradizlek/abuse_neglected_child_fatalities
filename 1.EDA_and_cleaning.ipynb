{
 "cells": [
  {
   "cell_type": "markdown",
   "metadata": {},
   "source": [
    "# 📊 Exploratory Data Analysis (EDA)  & Cleaning\n",
    "###  Importing Libraries and Loading the Dataset  \n"
   ]
  },
  {
   "cell_type": "code",
   "execution_count": 3,
   "metadata": {},
   "outputs": [],
   "source": [
    "import pandas as pd\n",
    "import matplotlib.pyplot as plt\n",
    "import seaborn as sns\n",
    "\n",
    "\n",
    "df=pd.read_csv('/Users/kubra/Desktop/Pyhton/python projects /abuse_neglected_child_fatalities /OCS_1.1___Abuse_Neglect_Related_Texas_Child_Fatalities_FY2015-FY2024_20250310.csv')"
   ]
  },
  {
   "cell_type": "markdown",
   "metadata": {},
   "source": [
    "### Basic Information About the Dataset\n"
   ]
  },
  {
   "cell_type": "code",
   "execution_count": 4,
   "metadata": {},
   "outputs": [
    {
     "data": {
      "text/html": [
       "<div>\n",
       "<style scoped>\n",
       "    .dataframe tbody tr th:only-of-type {\n",
       "        vertical-align: middle;\n",
       "    }\n",
       "\n",
       "    .dataframe tbody tr th {\n",
       "        vertical-align: top;\n",
       "    }\n",
       "\n",
       "    .dataframe thead th {\n",
       "        text-align: right;\n",
       "    }\n",
       "</style>\n",
       "<table border=\"1\" class=\"dataframe\">\n",
       "  <thead>\n",
       "    <tr style=\"text-align: right;\">\n",
       "      <th></th>\n",
       "      <th>Fiscal Year</th>\n",
       "      <th>County</th>\n",
       "      <th>Region</th>\n",
       "      <th>Program</th>\n",
       "      <th>Abuse Neglect Fatalities</th>\n",
       "      <th>Race Ethnicity</th>\n",
       "      <th>Age</th>\n",
       "      <th>Gender</th>\n",
       "    </tr>\n",
       "  </thead>\n",
       "  <tbody>\n",
       "    <tr>\n",
       "      <th>0</th>\n",
       "      <td>2024</td>\n",
       "      <td>Anderson</td>\n",
       "      <td>4-Tyler</td>\n",
       "      <td>Child Protective Investigations</td>\n",
       "      <td>1</td>\n",
       "      <td>African American</td>\n",
       "      <td>0</td>\n",
       "      <td>Male</td>\n",
       "    </tr>\n",
       "    <tr>\n",
       "      <th>1</th>\n",
       "      <td>2024</td>\n",
       "      <td>Angelina</td>\n",
       "      <td>5-Beaumont</td>\n",
       "      <td>Child Protective Investigations</td>\n",
       "      <td>1</td>\n",
       "      <td>African American</td>\n",
       "      <td>0</td>\n",
       "      <td>Male</td>\n",
       "    </tr>\n",
       "    <tr>\n",
       "      <th>2</th>\n",
       "      <td>2024</td>\n",
       "      <td>Atascosa</td>\n",
       "      <td>8-San Antonio</td>\n",
       "      <td>Child Protective Investigations</td>\n",
       "      <td>1</td>\n",
       "      <td>Hispanic</td>\n",
       "      <td>12</td>\n",
       "      <td>Female</td>\n",
       "    </tr>\n",
       "    <tr>\n",
       "      <th>3</th>\n",
       "      <td>2024</td>\n",
       "      <td>Bee</td>\n",
       "      <td>11-Edinburg</td>\n",
       "      <td>Child Protective Investigations</td>\n",
       "      <td>1</td>\n",
       "      <td>Hispanic</td>\n",
       "      <td>0</td>\n",
       "      <td>Female</td>\n",
       "    </tr>\n",
       "    <tr>\n",
       "      <th>4</th>\n",
       "      <td>2024</td>\n",
       "      <td>Bell</td>\n",
       "      <td>7-Austin</td>\n",
       "      <td>Child Protective Investigations</td>\n",
       "      <td>1</td>\n",
       "      <td>African American</td>\n",
       "      <td>6</td>\n",
       "      <td>Male</td>\n",
       "    </tr>\n",
       "    <tr>\n",
       "      <th>...</th>\n",
       "      <td>...</td>\n",
       "      <td>...</td>\n",
       "      <td>...</td>\n",
       "      <td>...</td>\n",
       "      <td>...</td>\n",
       "      <td>...</td>\n",
       "      <td>...</td>\n",
       "      <td>...</td>\n",
       "    </tr>\n",
       "    <tr>\n",
       "      <th>1683</th>\n",
       "      <td>2015</td>\n",
       "      <td>Williamson</td>\n",
       "      <td>7-Austin</td>\n",
       "      <td>Child Protective Investigations</td>\n",
       "      <td>1</td>\n",
       "      <td>Anglo</td>\n",
       "      <td>0</td>\n",
       "      <td>Male</td>\n",
       "    </tr>\n",
       "    <tr>\n",
       "      <th>1684</th>\n",
       "      <td>2015</td>\n",
       "      <td>Williamson</td>\n",
       "      <td>7-Austin</td>\n",
       "      <td>Child Protective Investigations</td>\n",
       "      <td>2</td>\n",
       "      <td>Hispanic</td>\n",
       "      <td>3</td>\n",
       "      <td>Male</td>\n",
       "    </tr>\n",
       "    <tr>\n",
       "      <th>1685</th>\n",
       "      <td>2015</td>\n",
       "      <td>Williamson</td>\n",
       "      <td>7-Austin</td>\n",
       "      <td>Child Protective Investigations</td>\n",
       "      <td>1</td>\n",
       "      <td>Other</td>\n",
       "      <td>2</td>\n",
       "      <td>Male</td>\n",
       "    </tr>\n",
       "    <tr>\n",
       "      <th>1686</th>\n",
       "      <td>2015</td>\n",
       "      <td>Wood</td>\n",
       "      <td>4-Tyler</td>\n",
       "      <td>Child Protective Investigations</td>\n",
       "      <td>1</td>\n",
       "      <td>Anglo</td>\n",
       "      <td>1</td>\n",
       "      <td>Female</td>\n",
       "    </tr>\n",
       "    <tr>\n",
       "      <th>1687</th>\n",
       "      <td>2015</td>\n",
       "      <td>Wood</td>\n",
       "      <td>4-Tyler</td>\n",
       "      <td>Child Protective Investigations</td>\n",
       "      <td>1</td>\n",
       "      <td>Anglo</td>\n",
       "      <td>5</td>\n",
       "      <td>Male</td>\n",
       "    </tr>\n",
       "  </tbody>\n",
       "</table>\n",
       "<p>1688 rows × 8 columns</p>\n",
       "</div>"
      ],
      "text/plain": [
       "      Fiscal Year      County         Region                          Program  \\\n",
       "0            2024    Anderson        4-Tyler  Child Protective Investigations   \n",
       "1            2024    Angelina     5-Beaumont  Child Protective Investigations   \n",
       "2            2024    Atascosa  8-San Antonio  Child Protective Investigations   \n",
       "3            2024         Bee    11-Edinburg  Child Protective Investigations   \n",
       "4            2024        Bell       7-Austin  Child Protective Investigations   \n",
       "...           ...         ...            ...                              ...   \n",
       "1683         2015  Williamson       7-Austin  Child Protective Investigations   \n",
       "1684         2015  Williamson       7-Austin  Child Protective Investigations   \n",
       "1685         2015  Williamson       7-Austin  Child Protective Investigations   \n",
       "1686         2015        Wood        4-Tyler  Child Protective Investigations   \n",
       "1687         2015        Wood        4-Tyler  Child Protective Investigations   \n",
       "\n",
       "      Abuse Neglect Fatalities    Race Ethnicity  Age  Gender  \n",
       "0                            1  African American    0    Male  \n",
       "1                            1  African American    0    Male  \n",
       "2                            1          Hispanic   12  Female  \n",
       "3                            1          Hispanic    0  Female  \n",
       "4                            1  African American    6    Male  \n",
       "...                        ...               ...  ...     ...  \n",
       "1683                         1             Anglo    0    Male  \n",
       "1684                         2          Hispanic    3    Male  \n",
       "1685                         1             Other    2    Male  \n",
       "1686                         1             Anglo    1  Female  \n",
       "1687                         1             Anglo    5    Male  \n",
       "\n",
       "[1688 rows x 8 columns]"
      ]
     },
     "execution_count": 4,
     "metadata": {},
     "output_type": "execute_result"
    }
   ],
   "source": [
    "df"
   ]
  },
  {
   "cell_type": "code",
   "execution_count": 5,
   "metadata": {},
   "outputs": [
    {
     "data": {
      "text/plain": [
       "(1688, 8)"
      ]
     },
     "execution_count": 5,
     "metadata": {},
     "output_type": "execute_result"
    }
   ],
   "source": [
    "df.shape"
   ]
  },
  {
   "cell_type": "code",
   "execution_count": 6,
   "metadata": {},
   "outputs": [
    {
     "data": {
      "text/html": [
       "<div>\n",
       "<style scoped>\n",
       "    .dataframe tbody tr th:only-of-type {\n",
       "        vertical-align: middle;\n",
       "    }\n",
       "\n",
       "    .dataframe tbody tr th {\n",
       "        vertical-align: top;\n",
       "    }\n",
       "\n",
       "    .dataframe thead th {\n",
       "        text-align: right;\n",
       "    }\n",
       "</style>\n",
       "<table border=\"1\" class=\"dataframe\">\n",
       "  <thead>\n",
       "    <tr style=\"text-align: right;\">\n",
       "      <th></th>\n",
       "      <th>Fiscal Year</th>\n",
       "      <th>County</th>\n",
       "      <th>Region</th>\n",
       "      <th>Program</th>\n",
       "      <th>Abuse Neglect Fatalities</th>\n",
       "      <th>Race Ethnicity</th>\n",
       "      <th>Age</th>\n",
       "      <th>Gender</th>\n",
       "    </tr>\n",
       "  </thead>\n",
       "  <tbody>\n",
       "    <tr>\n",
       "      <th>0</th>\n",
       "      <td>2024</td>\n",
       "      <td>Anderson</td>\n",
       "      <td>4-Tyler</td>\n",
       "      <td>Child Protective Investigations</td>\n",
       "      <td>1</td>\n",
       "      <td>African American</td>\n",
       "      <td>0</td>\n",
       "      <td>Male</td>\n",
       "    </tr>\n",
       "    <tr>\n",
       "      <th>1</th>\n",
       "      <td>2024</td>\n",
       "      <td>Angelina</td>\n",
       "      <td>5-Beaumont</td>\n",
       "      <td>Child Protective Investigations</td>\n",
       "      <td>1</td>\n",
       "      <td>African American</td>\n",
       "      <td>0</td>\n",
       "      <td>Male</td>\n",
       "    </tr>\n",
       "    <tr>\n",
       "      <th>2</th>\n",
       "      <td>2024</td>\n",
       "      <td>Atascosa</td>\n",
       "      <td>8-San Antonio</td>\n",
       "      <td>Child Protective Investigations</td>\n",
       "      <td>1</td>\n",
       "      <td>Hispanic</td>\n",
       "      <td>12</td>\n",
       "      <td>Female</td>\n",
       "    </tr>\n",
       "    <tr>\n",
       "      <th>3</th>\n",
       "      <td>2024</td>\n",
       "      <td>Bee</td>\n",
       "      <td>11-Edinburg</td>\n",
       "      <td>Child Protective Investigations</td>\n",
       "      <td>1</td>\n",
       "      <td>Hispanic</td>\n",
       "      <td>0</td>\n",
       "      <td>Female</td>\n",
       "    </tr>\n",
       "    <tr>\n",
       "      <th>4</th>\n",
       "      <td>2024</td>\n",
       "      <td>Bell</td>\n",
       "      <td>7-Austin</td>\n",
       "      <td>Child Protective Investigations</td>\n",
       "      <td>1</td>\n",
       "      <td>African American</td>\n",
       "      <td>6</td>\n",
       "      <td>Male</td>\n",
       "    </tr>\n",
       "    <tr>\n",
       "      <th>5</th>\n",
       "      <td>2024</td>\n",
       "      <td>Bell</td>\n",
       "      <td>7-Austin</td>\n",
       "      <td>Child Protective Investigations</td>\n",
       "      <td>1</td>\n",
       "      <td>Anglo</td>\n",
       "      <td>0</td>\n",
       "      <td>Female</td>\n",
       "    </tr>\n",
       "    <tr>\n",
       "      <th>6</th>\n",
       "      <td>2024</td>\n",
       "      <td>Bexar</td>\n",
       "      <td>8-San Antonio</td>\n",
       "      <td>Child Protective Investigations</td>\n",
       "      <td>1</td>\n",
       "      <td>Hispanic</td>\n",
       "      <td>1</td>\n",
       "      <td>Female</td>\n",
       "    </tr>\n",
       "    <tr>\n",
       "      <th>7</th>\n",
       "      <td>2024</td>\n",
       "      <td>Bexar</td>\n",
       "      <td>8-San Antonio</td>\n",
       "      <td>Child Protective Investigations</td>\n",
       "      <td>1</td>\n",
       "      <td>Hispanic</td>\n",
       "      <td>3</td>\n",
       "      <td>Male</td>\n",
       "    </tr>\n",
       "    <tr>\n",
       "      <th>8</th>\n",
       "      <td>2024</td>\n",
       "      <td>Bexar</td>\n",
       "      <td>8-San Antonio</td>\n",
       "      <td>Child Protective Investigations</td>\n",
       "      <td>1</td>\n",
       "      <td>Hispanic</td>\n",
       "      <td>4</td>\n",
       "      <td>Male</td>\n",
       "    </tr>\n",
       "    <tr>\n",
       "      <th>9</th>\n",
       "      <td>2024</td>\n",
       "      <td>Bexar</td>\n",
       "      <td>8-San Antonio</td>\n",
       "      <td>Child Protective Investigations</td>\n",
       "      <td>1</td>\n",
       "      <td>Hispanic</td>\n",
       "      <td>6</td>\n",
       "      <td>Female</td>\n",
       "    </tr>\n",
       "  </tbody>\n",
       "</table>\n",
       "</div>"
      ],
      "text/plain": [
       "   Fiscal Year    County         Region                          Program  \\\n",
       "0         2024  Anderson        4-Tyler  Child Protective Investigations   \n",
       "1         2024  Angelina     5-Beaumont  Child Protective Investigations   \n",
       "2         2024  Atascosa  8-San Antonio  Child Protective Investigations   \n",
       "3         2024       Bee    11-Edinburg  Child Protective Investigations   \n",
       "4         2024      Bell       7-Austin  Child Protective Investigations   \n",
       "5         2024      Bell       7-Austin  Child Protective Investigations   \n",
       "6         2024     Bexar  8-San Antonio  Child Protective Investigations   \n",
       "7         2024     Bexar  8-San Antonio  Child Protective Investigations   \n",
       "8         2024     Bexar  8-San Antonio  Child Protective Investigations   \n",
       "9         2024     Bexar  8-San Antonio  Child Protective Investigations   \n",
       "\n",
       "   Abuse Neglect Fatalities    Race Ethnicity  Age  Gender  \n",
       "0                         1  African American    0    Male  \n",
       "1                         1  African American    0    Male  \n",
       "2                         1          Hispanic   12  Female  \n",
       "3                         1          Hispanic    0  Female  \n",
       "4                         1  African American    6    Male  \n",
       "5                         1             Anglo    0  Female  \n",
       "6                         1          Hispanic    1  Female  \n",
       "7                         1          Hispanic    3    Male  \n",
       "8                         1          Hispanic    4    Male  \n",
       "9                         1          Hispanic    6  Female  "
      ]
     },
     "execution_count": 6,
     "metadata": {},
     "output_type": "execute_result"
    }
   ],
   "source": [
    "df.head(10)"
   ]
  },
  {
   "cell_type": "code",
   "execution_count": 7,
   "metadata": {},
   "outputs": [
    {
     "data": {
      "text/html": [
       "<div>\n",
       "<style scoped>\n",
       "    .dataframe tbody tr th:only-of-type {\n",
       "        vertical-align: middle;\n",
       "    }\n",
       "\n",
       "    .dataframe tbody tr th {\n",
       "        vertical-align: top;\n",
       "    }\n",
       "\n",
       "    .dataframe thead th {\n",
       "        text-align: right;\n",
       "    }\n",
       "</style>\n",
       "<table border=\"1\" class=\"dataframe\">\n",
       "  <thead>\n",
       "    <tr style=\"text-align: right;\">\n",
       "      <th></th>\n",
       "      <th>Fiscal Year</th>\n",
       "      <th>County</th>\n",
       "      <th>Region</th>\n",
       "      <th>Program</th>\n",
       "      <th>Abuse Neglect Fatalities</th>\n",
       "      <th>Race Ethnicity</th>\n",
       "      <th>Age</th>\n",
       "      <th>Gender</th>\n",
       "    </tr>\n",
       "  </thead>\n",
       "  <tbody>\n",
       "    <tr>\n",
       "      <th>1678</th>\n",
       "      <td>2015</td>\n",
       "      <td>Webb</td>\n",
       "      <td>11-Edinburg</td>\n",
       "      <td>Child Protective Investigations</td>\n",
       "      <td>1</td>\n",
       "      <td>Anglo</td>\n",
       "      <td>0</td>\n",
       "      <td>Male</td>\n",
       "    </tr>\n",
       "    <tr>\n",
       "      <th>1679</th>\n",
       "      <td>2015</td>\n",
       "      <td>Webb</td>\n",
       "      <td>11-Edinburg</td>\n",
       "      <td>Child Protective Investigations</td>\n",
       "      <td>1</td>\n",
       "      <td>Hispanic</td>\n",
       "      <td>0</td>\n",
       "      <td>Female</td>\n",
       "    </tr>\n",
       "    <tr>\n",
       "      <th>1680</th>\n",
       "      <td>2015</td>\n",
       "      <td>Webb</td>\n",
       "      <td>11-Edinburg</td>\n",
       "      <td>Child Protective Investigations</td>\n",
       "      <td>2</td>\n",
       "      <td>Hispanic</td>\n",
       "      <td>0</td>\n",
       "      <td>Male</td>\n",
       "    </tr>\n",
       "    <tr>\n",
       "      <th>1681</th>\n",
       "      <td>2015</td>\n",
       "      <td>Wichita</td>\n",
       "      <td>2-Abilene</td>\n",
       "      <td>Day Care Investigations</td>\n",
       "      <td>1</td>\n",
       "      <td>Hispanic</td>\n",
       "      <td>0</td>\n",
       "      <td>Female</td>\n",
       "    </tr>\n",
       "    <tr>\n",
       "      <th>1682</th>\n",
       "      <td>2015</td>\n",
       "      <td>Wilbarger</td>\n",
       "      <td>2-Abilene</td>\n",
       "      <td>Child Protective Investigations</td>\n",
       "      <td>1</td>\n",
       "      <td>African American</td>\n",
       "      <td>1</td>\n",
       "      <td>Male</td>\n",
       "    </tr>\n",
       "    <tr>\n",
       "      <th>1683</th>\n",
       "      <td>2015</td>\n",
       "      <td>Williamson</td>\n",
       "      <td>7-Austin</td>\n",
       "      <td>Child Protective Investigations</td>\n",
       "      <td>1</td>\n",
       "      <td>Anglo</td>\n",
       "      <td>0</td>\n",
       "      <td>Male</td>\n",
       "    </tr>\n",
       "    <tr>\n",
       "      <th>1684</th>\n",
       "      <td>2015</td>\n",
       "      <td>Williamson</td>\n",
       "      <td>7-Austin</td>\n",
       "      <td>Child Protective Investigations</td>\n",
       "      <td>2</td>\n",
       "      <td>Hispanic</td>\n",
       "      <td>3</td>\n",
       "      <td>Male</td>\n",
       "    </tr>\n",
       "    <tr>\n",
       "      <th>1685</th>\n",
       "      <td>2015</td>\n",
       "      <td>Williamson</td>\n",
       "      <td>7-Austin</td>\n",
       "      <td>Child Protective Investigations</td>\n",
       "      <td>1</td>\n",
       "      <td>Other</td>\n",
       "      <td>2</td>\n",
       "      <td>Male</td>\n",
       "    </tr>\n",
       "    <tr>\n",
       "      <th>1686</th>\n",
       "      <td>2015</td>\n",
       "      <td>Wood</td>\n",
       "      <td>4-Tyler</td>\n",
       "      <td>Child Protective Investigations</td>\n",
       "      <td>1</td>\n",
       "      <td>Anglo</td>\n",
       "      <td>1</td>\n",
       "      <td>Female</td>\n",
       "    </tr>\n",
       "    <tr>\n",
       "      <th>1687</th>\n",
       "      <td>2015</td>\n",
       "      <td>Wood</td>\n",
       "      <td>4-Tyler</td>\n",
       "      <td>Child Protective Investigations</td>\n",
       "      <td>1</td>\n",
       "      <td>Anglo</td>\n",
       "      <td>5</td>\n",
       "      <td>Male</td>\n",
       "    </tr>\n",
       "  </tbody>\n",
       "</table>\n",
       "</div>"
      ],
      "text/plain": [
       "      Fiscal Year      County       Region                          Program  \\\n",
       "1678         2015        Webb  11-Edinburg  Child Protective Investigations   \n",
       "1679         2015        Webb  11-Edinburg  Child Protective Investigations   \n",
       "1680         2015        Webb  11-Edinburg  Child Protective Investigations   \n",
       "1681         2015     Wichita    2-Abilene          Day Care Investigations   \n",
       "1682         2015   Wilbarger    2-Abilene  Child Protective Investigations   \n",
       "1683         2015  Williamson     7-Austin  Child Protective Investigations   \n",
       "1684         2015  Williamson     7-Austin  Child Protective Investigations   \n",
       "1685         2015  Williamson     7-Austin  Child Protective Investigations   \n",
       "1686         2015        Wood      4-Tyler  Child Protective Investigations   \n",
       "1687         2015        Wood      4-Tyler  Child Protective Investigations   \n",
       "\n",
       "      Abuse Neglect Fatalities    Race Ethnicity  Age  Gender  \n",
       "1678                         1             Anglo    0    Male  \n",
       "1679                         1          Hispanic    0  Female  \n",
       "1680                         2          Hispanic    0    Male  \n",
       "1681                         1          Hispanic    0  Female  \n",
       "1682                         1  African American    1    Male  \n",
       "1683                         1             Anglo    0    Male  \n",
       "1684                         2          Hispanic    3    Male  \n",
       "1685                         1             Other    2    Male  \n",
       "1686                         1             Anglo    1  Female  \n",
       "1687                         1             Anglo    5    Male  "
      ]
     },
     "execution_count": 7,
     "metadata": {},
     "output_type": "execute_result"
    }
   ],
   "source": [
    "df.tail(10)"
   ]
  },
  {
   "cell_type": "code",
   "execution_count": 8,
   "metadata": {},
   "outputs": [
    {
     "data": {
      "text/html": [
       "<div>\n",
       "<style scoped>\n",
       "    .dataframe tbody tr th:only-of-type {\n",
       "        vertical-align: middle;\n",
       "    }\n",
       "\n",
       "    .dataframe tbody tr th {\n",
       "        vertical-align: top;\n",
       "    }\n",
       "\n",
       "    .dataframe thead th {\n",
       "        text-align: right;\n",
       "    }\n",
       "</style>\n",
       "<table border=\"1\" class=\"dataframe\">\n",
       "  <thead>\n",
       "    <tr style=\"text-align: right;\">\n",
       "      <th></th>\n",
       "      <th>Fiscal Year</th>\n",
       "      <th>County</th>\n",
       "      <th>Region</th>\n",
       "      <th>Program</th>\n",
       "      <th>Abuse Neglect Fatalities</th>\n",
       "      <th>Race Ethnicity</th>\n",
       "      <th>Age</th>\n",
       "      <th>Gender</th>\n",
       "    </tr>\n",
       "  </thead>\n",
       "  <tbody>\n",
       "    <tr>\n",
       "      <th>1251</th>\n",
       "      <td>2017</td>\n",
       "      <td>Harris</td>\n",
       "      <td>6-Houston</td>\n",
       "      <td>Child Protective Investigations</td>\n",
       "      <td>1</td>\n",
       "      <td>Hispanic</td>\n",
       "      <td>5</td>\n",
       "      <td>Female</td>\n",
       "    </tr>\n",
       "    <tr>\n",
       "      <th>494</th>\n",
       "      <td>2021</td>\n",
       "      <td>Harris</td>\n",
       "      <td>6-Houston</td>\n",
       "      <td>Child Protective Investigations</td>\n",
       "      <td>1</td>\n",
       "      <td>Hispanic</td>\n",
       "      <td>8</td>\n",
       "      <td>Female</td>\n",
       "    </tr>\n",
       "    <tr>\n",
       "      <th>203</th>\n",
       "      <td>2023</td>\n",
       "      <td>Potter</td>\n",
       "      <td>1-Lubbock</td>\n",
       "      <td>Child Protective Investigations</td>\n",
       "      <td>1</td>\n",
       "      <td>African American</td>\n",
       "      <td>0</td>\n",
       "      <td>Female</td>\n",
       "    </tr>\n",
       "    <tr>\n",
       "      <th>479</th>\n",
       "      <td>2021</td>\n",
       "      <td>Harris</td>\n",
       "      <td>6-Houston</td>\n",
       "      <td>Child Protective Investigations</td>\n",
       "      <td>1</td>\n",
       "      <td>African American</td>\n",
       "      <td>3</td>\n",
       "      <td>Male</td>\n",
       "    </tr>\n",
       "    <tr>\n",
       "      <th>886</th>\n",
       "      <td>2019</td>\n",
       "      <td>Grayson</td>\n",
       "      <td>3-Arlington</td>\n",
       "      <td>Child Protective Investigations</td>\n",
       "      <td>1</td>\n",
       "      <td>Hispanic</td>\n",
       "      <td>0</td>\n",
       "      <td>Male</td>\n",
       "    </tr>\n",
       "  </tbody>\n",
       "</table>\n",
       "</div>"
      ],
      "text/plain": [
       "      Fiscal Year   County       Region                          Program  \\\n",
       "1251         2017   Harris    6-Houston  Child Protective Investigations   \n",
       "494          2021   Harris    6-Houston  Child Protective Investigations   \n",
       "203          2023   Potter    1-Lubbock  Child Protective Investigations   \n",
       "479          2021   Harris    6-Houston  Child Protective Investigations   \n",
       "886          2019  Grayson  3-Arlington  Child Protective Investigations   \n",
       "\n",
       "      Abuse Neglect Fatalities    Race Ethnicity  Age  Gender  \n",
       "1251                         1          Hispanic    5  Female  \n",
       "494                          1          Hispanic    8  Female  \n",
       "203                          1  African American    0  Female  \n",
       "479                          1  African American    3    Male  \n",
       "886                          1          Hispanic    0    Male  "
      ]
     },
     "execution_count": 8,
     "metadata": {},
     "output_type": "execute_result"
    }
   ],
   "source": [
    "df.sample(5, random_state=42)"
   ]
  },
  {
   "cell_type": "code",
   "execution_count": 9,
   "metadata": {},
   "outputs": [
    {
     "name": "stdout",
     "output_type": "stream",
     "text": [
      "<class 'pandas.core.frame.DataFrame'>\n",
      "RangeIndex: 1688 entries, 0 to 1687\n",
      "Data columns (total 8 columns):\n",
      " #   Column                    Non-Null Count  Dtype \n",
      "---  ------                    --------------  ----- \n",
      " 0   Fiscal Year               1688 non-null   int64 \n",
      " 1   County                    1688 non-null   object\n",
      " 2   Region                    1688 non-null   object\n",
      " 3   Program                   1687 non-null   object\n",
      " 4   Abuse Neglect Fatalities  1688 non-null   int64 \n",
      " 5   Race Ethnicity            1688 non-null   object\n",
      " 6   Age                       1688 non-null   int64 \n",
      " 7   Gender                    1688 non-null   object\n",
      "dtypes: int64(3), object(5)\n",
      "memory usage: 105.6+ KB\n"
     ]
    }
   ],
   "source": [
    "df.info()"
   ]
  },
  {
   "cell_type": "markdown",
   "metadata": {},
   "source": [
    "### Understanding Unique Values"
   ]
  },
  {
   "cell_type": "code",
   "execution_count": 10,
   "metadata": {},
   "outputs": [
    {
     "data": {
      "text/plain": [
       "array(['Child Protective Investigations', 'Day Care Investigations',\n",
       "       'Residential Child Care Investigations', nan], dtype=object)"
      ]
     },
     "execution_count": 10,
     "metadata": {},
     "output_type": "execute_result"
    }
   ],
   "source": [
    "df['Program'].unique()\n",
    "\n"
   ]
  },
  {
   "cell_type": "code",
   "execution_count": 11,
   "metadata": {},
   "outputs": [
    {
     "data": {
      "text/plain": [
       "array(['African American', 'Hispanic', 'Anglo', 'Other', 'Asian',\n",
       "       'Native American', 'Unknown'], dtype=object)"
      ]
     },
     "execution_count": 11,
     "metadata": {},
     "output_type": "execute_result"
    }
   ],
   "source": [
    "df['Race Ethnicity'].unique()"
   ]
  },
  {
   "cell_type": "code",
   "execution_count": 12,
   "metadata": {},
   "outputs": [
    {
     "data": {
      "text/plain": [
       "array(['4-Tyler', '5-Beaumont', '8-San Antonio', '11-Edinburg',\n",
       "       '7-Austin', '6-Houston', '2-Abilene', '3-Arlington', '9-Midland',\n",
       "       '10-El Paso', '1-Lubbock'], dtype=object)"
      ]
     },
     "execution_count": 12,
     "metadata": {},
     "output_type": "execute_result"
    }
   ],
   "source": [
    "df['Region'].unique()"
   ]
  },
  {
   "cell_type": "code",
   "execution_count": 13,
   "metadata": {},
   "outputs": [
    {
     "data": {
      "text/plain": [
       "array(['Anderson', 'Angelina', 'Atascosa', 'Bee', 'Bell', 'Bexar',\n",
       "       'Brazoria', 'Brazos', 'Brown', 'Collin', 'Dallas', 'Ector',\n",
       "       'El Paso', 'Ellis', 'Falls', 'Fannin', 'Floyd', 'Fort Bend',\n",
       "       'Frio', 'Galveston', 'Grayson', 'Harris', 'Harrison', 'Hidalgo',\n",
       "       'Jefferson', 'Johnson', 'Karnes', 'Kaufman', 'Kendall', 'Knox',\n",
       "       'Lubbock', 'Maverick', 'McLennan', 'Midland', 'Montgomery',\n",
       "       'Nueces', 'Orange', 'Potter', 'Rusk', 'San Patricio', 'Smith',\n",
       "       'Tarrant', 'Tom Green', 'Travis', 'Waller', 'Williamson', 'Archer',\n",
       "       'Bowie', 'Brooks', 'Caldwell', 'Cameron', 'Camp', 'Cherokee',\n",
       "       'Coryell', 'Cottle', 'Denton', 'Guadalupe', 'Hale', 'Hays',\n",
       "       'Henderson', 'Hudspeth', 'Kleberg', 'Lamar', 'Liberty',\n",
       "       'Limestone', 'Llano', 'Navarro', 'San Jacinto', 'Taylor', 'Titus',\n",
       "       'Trinity', 'Wharton', 'Wichita', 'Wise', 'Young', 'Cass', 'Gregg',\n",
       "       'Hood', 'Hutchinson', 'Jasper', 'Jim Wells', 'Martin', 'Matagorda',\n",
       "       'Medina', 'Morris', 'Ochiltree', 'Panola', 'Parker', 'Polk',\n",
       "       'Scurry', 'Shelby', 'Tyler', 'Uvalde', 'Victoria', 'Webb',\n",
       "       'Armstrong', 'Bastrop', 'Callahan', 'Colorado', 'Comal', 'Dallam',\n",
       "       'Dimmit', 'Grimes', 'Hill', 'Houston', 'Howard', 'Jackson',\n",
       "       'Nacogdoches', 'Rains', 'Refugio', 'Val Verde', 'Washington',\n",
       "       'Austin', 'Cooke', 'Delta', 'Erath', 'Hall', 'Hardeman', 'Hardin',\n",
       "       'Hockley', 'Hopkins', 'Hunt', 'Kerr', 'Lampasas', 'Lavaca', 'Leon',\n",
       "       'Madison', 'Palo Pinto', 'Rockwall', 'Sabine', 'Starr', 'Terry',\n",
       "       'Walker', 'Ward', 'Willacy', 'Wilson', 'Winkler', 'Aransas',\n",
       "       'Clay', 'Donley', 'Freestone', 'Gray', 'Milam', 'Pecos', 'Randall',\n",
       "       'Wood', 'Somervell', 'Upshur', 'Eastland', 'Jack', 'Jones',\n",
       "       'Marion', 'Montague', 'Red River', 'Bailey', 'Blanco', 'Childress',\n",
       "       'Crosby', 'Dawson', 'Franklin', 'McCulloch', 'Nolan', 'Sutton',\n",
       "       'Van Zandt', 'Andrews', 'Calhoun', 'Chambers', 'Garza', 'Real',\n",
       "       'Reeves', 'Wilbarger'], dtype=object)"
      ]
     },
     "execution_count": 13,
     "metadata": {},
     "output_type": "execute_result"
    }
   ],
   "source": [
    "df['County'].unique()"
   ]
  },
  {
   "cell_type": "markdown",
   "metadata": {},
   "source": [
    "###  Statistical Summary "
   ]
  },
  {
   "cell_type": "code",
   "execution_count": 14,
   "metadata": {},
   "outputs": [
    {
     "data": {
      "text/html": [
       "<div>\n",
       "<style scoped>\n",
       "    .dataframe tbody tr th:only-of-type {\n",
       "        vertical-align: middle;\n",
       "    }\n",
       "\n",
       "    .dataframe tbody tr th {\n",
       "        vertical-align: top;\n",
       "    }\n",
       "\n",
       "    .dataframe thead th {\n",
       "        text-align: right;\n",
       "    }\n",
       "</style>\n",
       "<table border=\"1\" class=\"dataframe\">\n",
       "  <thead>\n",
       "    <tr style=\"text-align: right;\">\n",
       "      <th></th>\n",
       "      <th>County</th>\n",
       "      <th>Region</th>\n",
       "      <th>Program</th>\n",
       "      <th>Race Ethnicity</th>\n",
       "      <th>Gender</th>\n",
       "    </tr>\n",
       "  </thead>\n",
       "  <tbody>\n",
       "    <tr>\n",
       "      <th>count</th>\n",
       "      <td>1688</td>\n",
       "      <td>1688</td>\n",
       "      <td>1687</td>\n",
       "      <td>1688</td>\n",
       "      <td>1688</td>\n",
       "    </tr>\n",
       "    <tr>\n",
       "      <th>unique</th>\n",
       "      <td>171</td>\n",
       "      <td>11</td>\n",
       "      <td>3</td>\n",
       "      <td>7</td>\n",
       "      <td>3</td>\n",
       "    </tr>\n",
       "    <tr>\n",
       "      <th>top</th>\n",
       "      <td>Harris</td>\n",
       "      <td>3-Arlington</td>\n",
       "      <td>Child Protective Investigations</td>\n",
       "      <td>Hispanic</td>\n",
       "      <td>Male</td>\n",
       "    </tr>\n",
       "    <tr>\n",
       "      <th>freq</th>\n",
       "      <td>242</td>\n",
       "      <td>433</td>\n",
       "      <td>1600</td>\n",
       "      <td>569</td>\n",
       "      <td>985</td>\n",
       "    </tr>\n",
       "  </tbody>\n",
       "</table>\n",
       "</div>"
      ],
      "text/plain": [
       "        County       Region                          Program Race Ethnicity  \\\n",
       "count     1688         1688                             1687           1688   \n",
       "unique     171           11                                3              7   \n",
       "top     Harris  3-Arlington  Child Protective Investigations       Hispanic   \n",
       "freq       242          433                             1600            569   \n",
       "\n",
       "       Gender  \n",
       "count    1688  \n",
       "unique      3  \n",
       "top      Male  \n",
       "freq      985  "
      ]
     },
     "execution_count": 14,
     "metadata": {},
     "output_type": "execute_result"
    }
   ],
   "source": [
    "df.describe(include='object')\n"
   ]
  },
  {
   "cell_type": "code",
   "execution_count": 15,
   "metadata": {},
   "outputs": [
    {
     "name": "stdout",
     "output_type": "stream",
     "text": [
      "Min Age: 0\n",
      "Max Age: 17\n"
     ]
    }
   ],
   "source": [
    "print(\"Min Age:\", df[\"Age\"].min())\n",
    "print(\"Max Age:\", df[\"Age\"].max())\n"
   ]
  },
  {
   "cell_type": "code",
   "execution_count": 16,
   "metadata": {},
   "outputs": [
    {
     "data": {
      "image/png": "[encoded data removed]",
      "text/plain": [
       "<Figure size 800x500 with 1 Axes>"
      ]
     },
     "metadata": {},
     "output_type": "display_data"
    }
   ],
   "source": [
    "import seaborn as sns\n",
    "import matplotlib.pyplot as plt\n",
    "\n",
    "plt.figure(figsize=(8, 5))\n",
    "sns.boxplot(x=df[\"Age\"])\n",
    "plt.title(\"Boxplot of Age\")\n",
    "plt.show()\n"
   ]
  },
  {
   "cell_type": "code",
   "execution_count": 17,
   "metadata": {},
   "outputs": [
    {
     "name": "stdout",
     "output_type": "stream",
     "text": [
      "Lower Bound: -7.5, Upper Bound: 12.5\n"
     ]
    }
   ],
   "source": [
    "Q1 = df[\"Age\"].quantile(0.25)  # 25th percentile\n",
    "Q3 = df[\"Age\"].quantile(0.75)  # 75th percentile\n",
    "IQR = Q3 - Q1  # Interquartile Range\n",
    "\n",
    "lower_bound = Q1 - 1.5 * IQR\n",
    "upper_bound = Q3 + 1.5 * IQR\n",
    "\n",
    "print(f\"Lower Bound: {lower_bound}, Upper Bound: {upper_bound}\")\n"
   ]
  },
  {
   "cell_type": "code",
   "execution_count": 18,
   "metadata": {},
   "outputs": [
    {
     "name": "stdout",
     "output_type": "stream",
     "text": [
      "Number of Outliers: 126\n"
     ]
    },
    {
     "data": {
      "text/html": [
       "<div>\n",
       "<style scoped>\n",
       "    .dataframe tbody tr th:only-of-type {\n",
       "        vertical-align: middle;\n",
       "    }\n",
       "\n",
       "    .dataframe tbody tr th {\n",
       "        vertical-align: top;\n",
       "    }\n",
       "\n",
       "    .dataframe thead th {\n",
       "        text-align: right;\n",
       "    }\n",
       "</style>\n",
       "<table border=\"1\" class=\"dataframe\">\n",
       "  <thead>\n",
       "    <tr style=\"text-align: right;\">\n",
       "      <th></th>\n",
       "      <th>Fiscal Year</th>\n",
       "      <th>County</th>\n",
       "      <th>Region</th>\n",
       "      <th>Program</th>\n",
       "      <th>Abuse Neglect Fatalities</th>\n",
       "      <th>Race Ethnicity</th>\n",
       "      <th>Age</th>\n",
       "      <th>Gender</th>\n",
       "    </tr>\n",
       "  </thead>\n",
       "  <tbody>\n",
       "    <tr>\n",
       "      <th>12</th>\n",
       "      <td>2024</td>\n",
       "      <td>Brazoria</td>\n",
       "      <td>6-Houston</td>\n",
       "      <td>Child Protective Investigations</td>\n",
       "      <td>1</td>\n",
       "      <td>Anglo</td>\n",
       "      <td>13</td>\n",
       "      <td>Female</td>\n",
       "    </tr>\n",
       "    <tr>\n",
       "      <th>13</th>\n",
       "      <td>2024</td>\n",
       "      <td>Brazoria</td>\n",
       "      <td>6-Houston</td>\n",
       "      <td>Child Protective Investigations</td>\n",
       "      <td>1</td>\n",
       "      <td>Anglo</td>\n",
       "      <td>14</td>\n",
       "      <td>Male</td>\n",
       "    </tr>\n",
       "    <tr>\n",
       "      <th>22</th>\n",
       "      <td>2024</td>\n",
       "      <td>Ector</td>\n",
       "      <td>9-Midland</td>\n",
       "      <td>Child Protective Investigations</td>\n",
       "      <td>1</td>\n",
       "      <td>African American</td>\n",
       "      <td>17</td>\n",
       "      <td>Female</td>\n",
       "    </tr>\n",
       "    <tr>\n",
       "      <th>45</th>\n",
       "      <td>2024</td>\n",
       "      <td>Harris</td>\n",
       "      <td>6-Houston</td>\n",
       "      <td>Child Protective Investigations</td>\n",
       "      <td>1</td>\n",
       "      <td>Hispanic</td>\n",
       "      <td>16</td>\n",
       "      <td>Female</td>\n",
       "    </tr>\n",
       "    <tr>\n",
       "      <th>46</th>\n",
       "      <td>2024</td>\n",
       "      <td>Harrison</td>\n",
       "      <td>4-Tyler</td>\n",
       "      <td>Child Protective Investigations</td>\n",
       "      <td>1</td>\n",
       "      <td>African American</td>\n",
       "      <td>13</td>\n",
       "      <td>Male</td>\n",
       "    </tr>\n",
       "  </tbody>\n",
       "</table>\n",
       "</div>"
      ],
      "text/plain": [
       "    Fiscal Year    County     Region                          Program  \\\n",
       "12         2024  Brazoria  6-Houston  Child Protective Investigations   \n",
       "13         2024  Brazoria  6-Houston  Child Protective Investigations   \n",
       "22         2024     Ector  9-Midland  Child Protective Investigations   \n",
       "45         2024    Harris  6-Houston  Child Protective Investigations   \n",
       "46         2024  Harrison    4-Tyler  Child Protective Investigations   \n",
       "\n",
       "    Abuse Neglect Fatalities    Race Ethnicity  Age  Gender  \n",
       "12                         1             Anglo   13  Female  \n",
       "13                         1             Anglo   14    Male  \n",
       "22                         1  African American   17  Female  \n",
       "45                         1          Hispanic   16  Female  \n",
       "46                         1  African American   13    Male  "
      ]
     },
     "execution_count": 18,
     "metadata": {},
     "output_type": "execute_result"
    }
   ],
   "source": [
    "outliers = df[(df[\"Age\"] < lower_bound) | (df[\"Age\"] > upper_bound)]\n",
    "print(f\"Number of Outliers: {len(outliers)}\")\n",
    "outliers.head()  # Show a few outliers\n"
   ]
  },
  {
   "cell_type": "markdown",
   "metadata": {},
   "source": [
    "### Data Cleaning"
   ]
  },
  {
   "cell_type": "code",
   "execution_count": 19,
   "metadata": {},
   "outputs": [],
   "source": [
    "df[\"Fiscal Year\"] = pd.to_datetime(df[\"Fiscal Year\"], format='%Y')\n"
   ]
  },
  {
   "cell_type": "code",
   "execution_count": 20,
   "metadata": {},
   "outputs": [
    {
     "name": "stdout",
     "output_type": "stream",
     "text": [
      "<class 'pandas.core.frame.DataFrame'>\n",
      "RangeIndex: 1688 entries, 0 to 1687\n",
      "Data columns (total 8 columns):\n",
      " #   Column                    Non-Null Count  Dtype         \n",
      "---  ------                    --------------  -----         \n",
      " 0   Fiscal Year               1688 non-null   datetime64[ns]\n",
      " 1   County                    1688 non-null   object        \n",
      " 2   Region                    1688 non-null   object        \n",
      " 3   Program                   1687 non-null   object        \n",
      " 4   Abuse Neglect Fatalities  1688 non-null   int64         \n",
      " 5   Race Ethnicity            1688 non-null   object        \n",
      " 6   Age                       1688 non-null   int64         \n",
      " 7   Gender                    1688 non-null   object        \n",
      "dtypes: datetime64[ns](1), int64(2), object(5)\n",
      "memory usage: 105.6+ KB\n"
     ]
    }
   ],
   "source": [
    "df.info()"
   ]
  },
  {
   "cell_type": "code",
   "execution_count": 21,
   "metadata": {},
   "outputs": [
    {
     "data": {
      "text/plain": [
       "Fiscal Year                 0\n",
       "County                      0\n",
       "Region                      0\n",
       "Program                     1\n",
       "Abuse Neglect Fatalities    0\n",
       "Race Ethnicity              0\n",
       "Age                         0\n",
       "Gender                      0\n",
       "dtype: int64"
      ]
     },
     "execution_count": 21,
     "metadata": {},
     "output_type": "execute_result"
    }
   ],
   "source": [
    "df.isnull().sum()\n"
   ]
  },
  {
   "cell_type": "code",
   "execution_count": 22,
   "metadata": {},
   "outputs": [],
   "source": [
    "df.fillna(\"Unknown\", inplace=True)\n"
   ]
  },
  {
   "cell_type": "code",
   "execution_count": 23,
   "metadata": {},
   "outputs": [
    {
     "name": "stdout",
     "output_type": "stream",
     "text": [
      "Number of duplicate rows: 0\n"
     ]
    }
   ],
   "source": [
    "duplicates = df.duplicated().sum()\n",
    "print(f\"Number of duplicate rows: {duplicates}\")\n",
    "\n",
    "\n"
   ]
  },
  {
   "cell_type": "code",
   "execution_count": 24,
   "metadata": {},
   "outputs": [],
   "source": [
    "df[\"Region\"] = df[\"Region\"].str.replace(r\"^\\d+-\", \"\", regex=True)\n"
   ]
  },
  {
   "cell_type": "code",
   "execution_count": 25,
   "metadata": {},
   "outputs": [
    {
     "data": {
      "text/plain": [
       "array(['Tyler', 'Beaumont', 'San Antonio', 'Edinburg', 'Austin',\n",
       "       'Houston', 'Abilene', 'Arlington', 'Midland', 'El Paso', 'Lubbock'],\n",
       "      dtype=object)"
      ]
     },
     "execution_count": 25,
     "metadata": {},
     "output_type": "execute_result"
    }
   ],
   "source": [
    "df['Region'].unique()"
   ]
  },
  {
   "cell_type": "code",
   "execution_count": 26,
   "metadata": {},
   "outputs": [],
   "source": [
    "bins = [0, 1, 4, 9, 14, 18]  # Define age ranges\n",
    "labels = [\"Infant (0-1)\", \"Toddler (2-4)\", \"Child (5-9)\", \"Pre-Teen (10-14)\", \"Teen (15-17)\"]\n",
    "\n",
    "df[\"Age Group\"] = pd.cut(df[\"Age\"], bins=bins, labels=labels, right=False)\n"
   ]
  },
  {
   "cell_type": "code",
   "execution_count": 27,
   "metadata": {},
   "outputs": [
    {
     "data": {
      "text/html": [
       "<div>\n",
       "<style scoped>\n",
       "    .dataframe tbody tr th:only-of-type {\n",
       "        vertical-align: middle;\n",
       "    }\n",
       "\n",
       "    .dataframe tbody tr th {\n",
       "        vertical-align: top;\n",
       "    }\n",
       "\n",
       "    .dataframe thead th {\n",
       "        text-align: right;\n",
       "    }\n",
       "</style>\n",
       "<table border=\"1\" class=\"dataframe\">\n",
       "  <thead>\n",
       "    <tr style=\"text-align: right;\">\n",
       "      <th></th>\n",
       "      <th>Age</th>\n",
       "      <th>Age Group</th>\n",
       "    </tr>\n",
       "  </thead>\n",
       "  <tbody>\n",
       "    <tr>\n",
       "      <th>0</th>\n",
       "      <td>0</td>\n",
       "      <td>Infant (0-1)</td>\n",
       "    </tr>\n",
       "    <tr>\n",
       "      <th>1</th>\n",
       "      <td>0</td>\n",
       "      <td>Infant (0-1)</td>\n",
       "    </tr>\n",
       "    <tr>\n",
       "      <th>2</th>\n",
       "      <td>12</td>\n",
       "      <td>Pre-Teen (10-14)</td>\n",
       "    </tr>\n",
       "    <tr>\n",
       "      <th>3</th>\n",
       "      <td>0</td>\n",
       "      <td>Infant (0-1)</td>\n",
       "    </tr>\n",
       "    <tr>\n",
       "      <th>4</th>\n",
       "      <td>6</td>\n",
       "      <td>Child (5-9)</td>\n",
       "    </tr>\n",
       "    <tr>\n",
       "      <th>5</th>\n",
       "      <td>0</td>\n",
       "      <td>Infant (0-1)</td>\n",
       "    </tr>\n",
       "    <tr>\n",
       "      <th>6</th>\n",
       "      <td>1</td>\n",
       "      <td>Toddler (2-4)</td>\n",
       "    </tr>\n",
       "    <tr>\n",
       "      <th>7</th>\n",
       "      <td>3</td>\n",
       "      <td>Toddler (2-4)</td>\n",
       "    </tr>\n",
       "    <tr>\n",
       "      <th>8</th>\n",
       "      <td>4</td>\n",
       "      <td>Child (5-9)</td>\n",
       "    </tr>\n",
       "    <tr>\n",
       "      <th>9</th>\n",
       "      <td>6</td>\n",
       "      <td>Child (5-9)</td>\n",
       "    </tr>\n",
       "  </tbody>\n",
       "</table>\n",
       "</div>"
      ],
      "text/plain": [
       "   Age         Age Group\n",
       "0    0      Infant (0-1)\n",
       "1    0      Infant (0-1)\n",
       "2   12  Pre-Teen (10-14)\n",
       "3    0      Infant (0-1)\n",
       "4    6       Child (5-9)\n",
       "5    0      Infant (0-1)\n",
       "6    1     Toddler (2-4)\n",
       "7    3     Toddler (2-4)\n",
       "8    4       Child (5-9)\n",
       "9    6       Child (5-9)"
      ]
     },
     "execution_count": 27,
     "metadata": {},
     "output_type": "execute_result"
    }
   ],
   "source": [
    "df[[\"Age\", \"Age Group\"]].head(10)\n"
   ]
  },
  {
   "cell_type": "code",
   "execution_count": 28,
   "metadata": {},
   "outputs": [],
   "source": [
    "df.to_csv(\"cleaned_data.csv\", index=False)"
   ]
  }
 ],
 "metadata": {
  "kernelspec": {
   "display_name": "child_fatalities",
   "language": "python",
   "name": "python3"
  },
  "language_info": {
   "codemirror_mode": {
    "name": "ipython",
    "version": 3
   },
   "file_extension": ".py",
   "mimetype": "text/x-python",
   "name": "python",
   "nbconvert_exporter": "python",
   "pygments_lexer": "ipython3",
   "version": "3.11.11"
  }
 },
 "nbformat": 4,
 "nbformat_minor": 2
}
