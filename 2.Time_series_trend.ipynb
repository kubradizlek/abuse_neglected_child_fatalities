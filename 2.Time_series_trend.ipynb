{
    "cells": [
        {
            "cell_type": "markdown",
            "metadata": {},
            "source": [
                "## **How have child fatalities due to abuse and neglect changed over time?**  \n",
                "\n",
                "### **Methodology**  \n",
                "1. **Convert Date Column** – Ensure the time-related column is in a proper datetime format.  \n",
                "2. **Aggregate Fatalities by Year** – Count the number of child fatalities per year.  \n",
                "3. **Identify Trends & Patterns** – Analyze the overall increase/decrease in fatalities.  \n",
                "4. **Visualize the Findings** – Use a line chart to display trends over time.  "
            ]
        }
    ],
    "metadata": {
        "language_info": {
            "name": "python"
        }
    },
    "nbformat": 4,
    "nbformat_minor": 2
}
